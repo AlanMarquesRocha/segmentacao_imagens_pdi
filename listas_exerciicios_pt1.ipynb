{
  "nbformat": 4,
  "nbformat_minor": 0,
  "metadata": {
    "colab": {
      "provenance": [],
      "authorship_tag": "ABX9TyPGpKBjg5mCk+KOxqL64cLb",
      "include_colab_link": true
    },
    "kernelspec": {
      "name": "python3",
      "display_name": "Python 3"
    },
    "language_info": {
      "name": "python"
    }
  },
  "cells": [
    {
      "cell_type": "markdown",
      "metadata": {
        "id": "view-in-github",
        "colab_type": "text"
      },
      "source": [
        "<a href=\"https://colab.research.google.com/github/AlanMarquesRocha/segmentacao_imagens_pdi/blob/master/listas_exerciicios_pt1.ipynb\" target=\"_parent\"><img src=\"https://colab.research.google.com/assets/colab-badge.svg\" alt=\"Open In Colab\"/></a>"
      ]
    },
    {
      "cell_type": "code",
      "execution_count": null,
      "metadata": {
        "id": "IGa6pEMC_H7k"
      },
      "outputs": [],
      "source": []
    },
    {
      "cell_type": "markdown",
      "source": [
        "# **Listas de Exercícios relacionadas a 1ª parte do projeto de ``Segmentação de Imagens com Python de A a Z``**."
      ],
      "metadata": {
        "id": "6SKRiTuD_1UV"
      }
    },
    {
      "cell_type": "markdown",
      "source": [
        "## **EXERCÍCIO - imagem infravermelha e separação de fundo**\n",
        "\n",
        "A ideia desta tarefa é fazer o teste da segmentação com duas imagens de cenários diferentes:\n",
        "\n",
        "- **Imagens infravermelhas**: carregue e faça o teste com as imagens ``thermal01.jpg`` e ``thermal02.jpg``\n",
        "\n",
        "- **Separação do fundo da imagem**: carregue e faça o teste com a imagem ``moedas01.jpg``\n",
        "\n",
        "Em ambos cenários, teste os tipos de segmentação abordados até agora"
      ],
      "metadata": {
        "id": "alHJwL0RAHO7"
      }
    },
    {
      "cell_type": "markdown",
      "source": [
        "### **Importando as bibliotecas necessárias para a resolução do exercício**"
      ],
      "metadata": {
        "id": "kT8e1BDrAd4I"
      }
    },
    {
      "cell_type": "code",
      "source": [
        "import cv2\n",
        "from matplotlib import pyplot as plt\n",
        "import numpy as np\n",
        "from google.colab.patches import cv2_imshow"
      ],
      "metadata": {
        "id": "2I6Y01NbAyH4"
      },
      "execution_count": 1,
      "outputs": []
    },
    {
      "cell_type": "code",
      "source": [
        "# fazendo a ligação do colab com o drive\n",
        "from google.colab import drive\n",
        "drive.mount('/content/gdrive')"
      ],
      "metadata": {
        "colab": {
          "base_uri": "https://localhost:8080/"
        },
        "id": "d0CmrdoLBX22",
        "outputId": "242b9d08-3e06-43a6-e50a-b7a077300732"
      },
      "execution_count": 2,
      "outputs": [
        {
          "output_type": "stream",
          "name": "stdout",
          "text": [
            "Mounted at /content/gdrive\n"
          ]
        }
      ]
    },
    {
      "cell_type": "code",
      "source": [
        "!cp -R /content/gdrive/MyDrive/cursos/segmentacao_imagens_ia_expert_academy/imagens/imagens imagens/"
      ],
      "metadata": {
        "id": "t9VPQs3wALtu"
      },
      "execution_count": 3,
      "outputs": []
    }
  ]
}