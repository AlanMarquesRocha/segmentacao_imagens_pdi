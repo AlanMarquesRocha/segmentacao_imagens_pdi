{
  "nbformat": 4,
  "nbformat_minor": 0,
  "metadata": {
    "colab": {
      "provenance": [],
      "authorship_tag": "ABX9TyNbWI45yJP0S/68w6757y6l",
      "include_colab_link": true
    },
    "kernelspec": {
      "name": "python3",
      "display_name": "Python 3"
    },
    "language_info": {
      "name": "python"
    }
  },
  "cells": [
    {
      "cell_type": "markdown",
      "metadata": {
        "id": "view-in-github",
        "colab_type": "text"
      },
      "source": [
        "<a href=\"https://colab.research.google.com/github/AlanMarquesRocha/segmentacao_imagens_pdi/blob/master/listas_exerciicios_pt1.ipynb\" target=\"_parent\"><img src=\"https://colab.research.google.com/assets/colab-badge.svg\" alt=\"Open In Colab\"/></a>"
      ]
    },
    {
      "cell_type": "code",
      "execution_count": null,
      "metadata": {
        "id": "IGa6pEMC_H7k"
      },
      "outputs": [],
      "source": []
    },
    {
      "cell_type": "markdown",
      "source": [
        "# **Listas de Exercícios relacionadas a 1ª parte do projeto de ``Segmentação de Imagens com Python de A a Z``**."
      ],
      "metadata": {
        "id": "6SKRiTuD_1UV"
      }
    },
    {
      "cell_type": "markdown",
      "source": [
        "## **EXERCÍCIO - imagem infravermelha e separação de fundo**"
      ],
      "metadata": {
        "id": "alHJwL0RAHO7"
      }
    },
    {
      "cell_type": "code",
      "source": [],
      "metadata": {
        "id": "t9VPQs3wALtu"
      },
      "execution_count": null,
      "outputs": []
    }
  ]
}