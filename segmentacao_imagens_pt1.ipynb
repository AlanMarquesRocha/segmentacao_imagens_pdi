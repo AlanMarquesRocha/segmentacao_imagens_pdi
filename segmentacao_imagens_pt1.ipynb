{
  "nbformat": 4,
  "nbformat_minor": 0,
  "metadata": {
    "colab": {
      "provenance": [],
      "authorship_tag": "ABX9TyOooh0OenEKrCmJL2f6RCbF"
    },
    "kernelspec": {
      "name": "python3",
      "display_name": "Python 3"
    },
    "language_info": {
      "name": "python"
    }
  },
  "cells": [
    {
      "cell_type": "markdown",
      "source": [
        "## **Importando as bibliotecas necessárias para o projeto:**"
      ],
      "metadata": {
        "id": "hHeDtdpHhue9"
      }
    },
    {
      "cell_type": "code",
      "execution_count": 2,
      "metadata": {
        "id": "dLAKd_VTDMIO"
      },
      "outputs": [],
      "source": [
        "import cv2\n",
        "import numpy as np\n",
        "from matplotlib import pyplot as plt\n",
        "from google.colab.patches import cv2_imshow"
      ]
    },
    {
      "cell_type": "code",
      "source": [
        "from google.colab import drive\n",
        "drive.mount('/content/gdrive')"
      ],
      "metadata": {
        "id": "p6wd2mHHihoY",
        "outputId": "7e5eb0ae-e522-45ac-956c-aeb0e54452d2",
        "colab": {
          "base_uri": "https://localhost:8080/"
        }
      },
      "execution_count": 3,
      "outputs": [
        {
          "output_type": "stream",
          "name": "stdout",
          "text": [
            "Mounted at /content/gdrive\n"
          ]
        }
      ]
    },
    {
      "cell_type": "code",
      "source": [
        "# Realiza a cópia de uma pasta específica do drive no ambiente colab:\n",
        "!cp -R /content/gdrive/MyDrive/cursos/segmentacao_imagens_ia_expert_academy/imagens/imagens imagens/"
      ],
      "metadata": {
        "id": "v2a8_7lWjUD5"
      },
      "execution_count": 9,
      "outputs": []
    },
    {
      "cell_type": "markdown",
      "source": [
        "## **Segmentação baseada em limiarização**"
      ],
      "metadata": {
        "id": "h7ZL8GkuiI7M"
      }
    },
    {
      "cell_type": "code",
      "source": [],
      "metadata": {
        "id": "pl1oYeoWiNN1"
      },
      "execution_count": null,
      "outputs": []
    }
  ]
}